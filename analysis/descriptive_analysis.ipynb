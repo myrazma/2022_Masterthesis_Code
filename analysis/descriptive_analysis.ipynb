{
 "cells": [
  {
   "cell_type": "code",
   "execution_count": 13,
   "metadata": {},
   "outputs": [],
   "source": [
    "import matplotlib.pyplot as plt\n",
    "import numpy as np\n",
    "import pandas as pd"
   ]
  },
  {
   "cell_type": "code",
   "execution_count": 2,
   "metadata": {},
   "outputs": [],
   "source": [
    "import sys\n",
    "sys.path.append('../')\n",
    "from utils import data_reader as reader"
   ]
  },
  {
   "cell_type": "markdown",
   "metadata": {},
   "source": [
    "## Read Data"
   ]
  },
  {
   "cell_type": "code",
   "execution_count": 21,
   "metadata": {},
   "outputs": [],
   "source": [
    "# the news articles\n",
    "articles = pd.read_csv(\"../data/articles_adobe_AMT.csv\")\n",
    "\n",
    "# dev and train data\n",
    "data_train = pd.read_csv(\"../data/messages_train_ready_for_WS.tsv\", sep='\\t')\n",
    "labels_dev = pd.read_csv(\"../data/goldstandard_dev_2022.tsv\", sep='\\t', header=None)\n",
    "features_dev = pd.read_csv(\"../data/messages_dev_features_ready_for_WS_2022.tsv\", sep='\\t')\n",
    "\n",
    "# sentencized automatic emotion tags\n",
    "sent_emotion_train = pd.read_csv(\"../data/messages_train_sentencized_automatic_emotion_tags.tsv\", sep='\\t')\n",
    "sent_emotion_dev = pd.read_csv(\"../data/messages_dev_sentencized_automatic_emotion_tags.tsv\", sep='\\t')"
   ]
  },
  {
   "cell_type": "code",
   "execution_count": null,
   "metadata": {},
   "outputs": [],
   "source": []
  }
 ],
 "metadata": {
  "interpreter": {
   "hash": "ed2344f7681cf89aab228cd10ec0defc1580630f88198e7a34bc1e2c9ee9efaf"
  },
  "kernelspec": {
   "display_name": "Python 3.10.2 ('masterthesis_env')",
   "language": "python",
   "name": "python3"
  },
  "language_info": {
   "codemirror_mode": {
    "name": "ipython",
    "version": 3
   },
   "file_extension": ".py",
   "mimetype": "text/x-python",
   "name": "python",
   "nbconvert_exporter": "python",
   "pygments_lexer": "ipython3",
   "version": "3.10.2"
  },
  "orig_nbformat": 4
 },
 "nbformat": 4,
 "nbformat_minor": 2
}
