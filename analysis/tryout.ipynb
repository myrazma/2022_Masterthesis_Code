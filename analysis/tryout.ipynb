{
 "cells": [
  {
   "cell_type": "code",
   "execution_count": 23,
   "metadata": {},
   "outputs": [
    {
     "name": "stderr",
     "output_type": "stream",
     "text": [
      "[nltk_data] Downloading package punkt to /Users/myra/nltk_data...\n",
      "[nltk_data]   Package punkt is already up-to-date!\n",
      "[nltk_data] Downloading package stopwords to /Users/myra/nltk_data...\n",
      "[nltk_data]   Package stopwords is already up-to-date!\n",
      "[nltk_data] Downloading package wordnet to /Users/myra/nltk_data...\n",
      "[nltk_data]   Package wordnet is already up-to-date!\n",
      "[nltk_data] Downloading package omw-1.4 to /Users/myra/nltk_data...\n",
      "[nltk_data]   Package omw-1.4 is already up-to-date!\n"
     ]
    }
   ],
   "source": [
    "import matplotlib.pyplot as plt\n",
    "import numpy as np\n",
    "import pandas as pd\n",
    "from scipy.stats import pearsonr\n",
    "from scipy.spatial import distance\n",
    "from matplotlib import style \n",
    "from collections import defaultdict\n",
    "style.use('default')\n",
    "\n",
    "# nltk libraries and sources\n",
    "import nltk\n",
    "from nltk.corpus import stopwords\n",
    "from nltk.stem.porter import PorterStemmer\n",
    "from nltk.stem import WordNetLemmatizer\n",
    "nltk.download('punkt')\n",
    "nltk.download('stopwords')\n",
    "nltk.download('wordnet')\n",
    "nltk.download('omw-1.4')\n",
    "\n",
    "import sys\n",
    "sys.path.append('../')\n",
    "import utils"
   ]
  },
  {
   "cell_type": "code",
   "execution_count": 24,
   "metadata": {},
   "outputs": [],
   "source": [
    "data_root_folder = \"../data/\"\n",
    "stopwords_en = set(stopwords.words('english'))"
   ]
  },
  {
   "cell_type": "markdown",
   "metadata": {},
   "source": [
    "## Read data"
   ]
  },
  {
   "cell_type": "code",
   "execution_count": 25,
   "metadata": {},
   "outputs": [],
   "source": [
    "data_train, data_dev = utils.load_data(data_root_folder)\n",
    "articles = utils.load_articles()"
   ]
  },
  {
   "cell_type": "code",
   "execution_count": 31,
   "metadata": {},
   "outputs": [],
   "source": [
    "data_train, data_dev = utils.load_data(data_root_folder)\n",
    "articles = utils.load_articles()\n",
    "# lower textual data\n",
    "data_train['essay'] = data_train['essay'].apply(lambda x: x.lower())\n",
    "articles['text'] = articles['text'].apply(lambda x: x.lower())\n",
    "\n",
    "# tokenized version of the text\n",
    "data_train['essay_tok'] = data_train['essay'].apply(lambda x: nltk.word_tokenize(x))\n",
    "articles['text_tok'] = articles['text'].apply(lambda x: nltk.word_tokenize(x))\n",
    "\n",
    "# lemmatize\n",
    "lemmatizer = WordNetLemmatizer()  # lemmatize\n",
    "stemmer = PorterStemmer()\n",
    "data_train['essay_lem'] = data_train['essay_tok'].apply(lambda x: [lemmatizer.lemmatize(word) for word in x])\n",
    "articles['text_lem'] = articles['text_tok'].apply(lambda x: [lemmatizer.lemmatize(word) for word in x])"
   ]
  },
  {
   "cell_type": "code",
   "execution_count": 32,
   "metadata": {},
   "outputs": [
    {
     "name": "stdout",
     "output_type": "stream",
     "text": [
      "rocks : rock\n",
      "corpora : corpus\n",
      "better : good\n"
     ]
    }
   ],
   "source": [
    "# source: https://www.geeksforgeeks.org/python-lemmatization-with-nltk/\n",
    "\n",
    " \n",
    "lemmatizer = WordNetLemmatizer()\n",
    " \n",
    "print(\"rocks :\", lemmatizer.lemmatize(\"rocks\"))\n",
    "print(\"corpora :\", lemmatizer.lemmatize(\"corpora\"))\n",
    " \n",
    "# a denotes adjective in \"pos\"\n",
    "print(\"better :\", lemmatizer.lemmatize(\"better\", pos =\"a\"))"
   ]
  },
  {
   "cell_type": "code",
   "execution_count": 33,
   "metadata": {},
   "outputs": [
    {
     "name": "stdout",
     "output_type": "stream",
     "text": [
      "'abhorrent ' bottle attack on young rangers fan before celtic game — police have described a bottle attack on an 11-year-old rangers fan before sunday 's league cup semi-final game with celtic as `` abhorrent '' . kraig mackay suffered a large cut to his head after being hit by the bottle while walking in aitkenhead road , glasgow , at about 14:00 on sunday . pictures on social media showed kraig with a large gash and a bandage on his head . police have appealed for help to find the person responsible . the boy was walking with his\n",
      "\n",
      "'abhorrent ' bottle attack on young ranger fan before celtic game — police have described a bottle attack on an 11-year-old ranger fan before sunday 's league cup semi-final game with celtic a `` abhorrent '' . kraig mackay suffered a large cut to his head after being hit by the bottle while walking in aitkenhead road , glasgow , at about 14:00 on sunday . picture on social medium showed kraig with a large gash and a bandage on his head . police have appealed for help to find the person responsible . the boy wa walking with his\n"
     ]
    }
   ],
   "source": [
    "tok = ' '.join(articles[:1]['text_tok'].item()[:100])\n",
    "lems = ' '.join(articles[:1]['text_lem'].item()[:100])\n",
    "\n",
    "print(tok)\n",
    "print()\n",
    "print(lems)\n"
   ]
  },
  {
   "cell_type": "code",
   "execution_count": null,
   "metadata": {},
   "outputs": [],
   "source": []
  }
 ],
 "metadata": {
  "interpreter": {
   "hash": "eb0ab78f048fef9a43997b491bb01225600537b49d40d593145d05a1ebd46754"
  },
  "kernelspec": {
   "display_name": "Python 3.9.10 ('transformers_env')",
   "language": "python",
   "name": "python3"
  },
  "language_info": {
   "codemirror_mode": {
    "name": "ipython",
    "version": 3
   },
   "file_extension": ".py",
   "mimetype": "text/x-python",
   "name": "python",
   "nbconvert_exporter": "python",
   "pygments_lexer": "ipython3",
   "version": "3.10.2"
  },
  "orig_nbformat": 4
 },
 "nbformat": 4,
 "nbformat_minor": 2
}
