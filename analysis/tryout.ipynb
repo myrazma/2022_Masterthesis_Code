{
 "cells": [
  {
   "cell_type": "code",
   "execution_count": 111,
   "metadata": {},
   "outputs": [
    {
     "name": "stderr",
     "output_type": "stream",
     "text": [
      "[nltk_data] Downloading package punkt to /Users/myra/nltk_data...\n",
      "[nltk_data]   Package punkt is already up-to-date!\n",
      "[nltk_data] Downloading package stopwords to /Users/myra/nltk_data...\n",
      "[nltk_data]   Package stopwords is already up-to-date!\n",
      "[nltk_data] Downloading package wordnet to /Users/myra/nltk_data...\n",
      "[nltk_data]   Package wordnet is already up-to-date!\n",
      "[nltk_data] Downloading package omw-1.4 to /Users/myra/nltk_data...\n",
      "[nltk_data]   Package omw-1.4 is already up-to-date!\n",
      "[nltk_data] Downloading package wordnet to /Users/myra/nltk_data...\n",
      "[nltk_data]   Package wordnet is already up-to-date!\n",
      "[nltk_data] Downloading package omw-1.4 to /Users/myra/nltk_data...\n",
      "[nltk_data]   Package omw-1.4 is already up-to-date!\n",
      "[nltk_data] Downloading package punkt to /Users/myra/nltk_data...\n",
      "[nltk_data]   Package punkt is already up-to-date!\n",
      "[nltk_data] Downloading package stopwords to /Users/myra/nltk_data...\n",
      "[nltk_data]   Package stopwords is already up-to-date!\n"
     ]
    }
   ],
   "source": [
    "import matplotlib.pyplot as plt\n",
    "import numpy as np\n",
    "import pandas as pd\n",
    "from scipy.stats import pearsonr\n",
    "from scipy.spatial import distance\n",
    "from matplotlib import style \n",
    "from collections import defaultdict\n",
    "style.use('default')\n",
    "\n",
    "# nltk libraries and sources\n",
    "import nltk\n",
    "from nltk.corpus import stopwords\n",
    "from nltk.stem.porter import PorterStemmer\n",
    "from nltk.stem import WordNetLemmatizer\n",
    "nltk.download('punkt')\n",
    "nltk.download('stopwords')\n",
    "nltk.download('wordnet')\n",
    "nltk.download('omw-1.4')\n",
    "\n",
    "import sys\n",
    "sys.path.append('../')\n",
    "import utils"
   ]
  },
  {
   "cell_type": "code",
   "execution_count": 112,
   "metadata": {},
   "outputs": [
    {
     "name": "stdout",
     "output_type": "stream",
     "text": [
      "---- punkt\n",
      "---- stopwords\n",
      "---- wordnet\n",
      "---- omw-1.4\n"
     ]
    },
    {
     "name": "stderr",
     "output_type": "stream",
     "text": [
      "[nltk_data] Downloading package stopwords to /Users/myra/nltk_data...\n",
      "[nltk_data]   Package stopwords is already up-to-date!\n",
      "[nltk_data] Downloading package wordnet to /Users/myra/nltk_data...\n",
      "[nltk_data]   Package wordnet is already up-to-date!\n",
      "[nltk_data] Downloading package omw-1.4 to /Users/myra/nltk_data...\n",
      "[nltk_data]   Package omw-1.4 is already up-to-date!\n"
     ]
    }
   ],
   "source": [
    "package = ['punkt', 'stopwords', 'wordnet', 'omw-1.4']\n",
    "\n",
    "print('---- punkt')\n",
    "try:\n",
    "    nltk.data.find('tokenizers/punkt')\n",
    "except LookupError:\n",
    "    nltk.download('punkt')\n",
    "\n",
    "try:\n",
    "    nltk.data.find('stopwords')\n",
    "except LookupError:\n",
    "    print('---- stopwords')\n",
    "    nltk.download('stopwords')\n",
    "\n",
    "try:\n",
    "    nltk.data.find('wordnet')\n",
    "except LookupError:\n",
    "    print('---- wordnet')   \n",
    "    nltk.download('wordnet')\n",
    "\n",
    "try:\n",
    "    nltk.data.find('omw-1.4')\n",
    "except LookupError:\n",
    "    print('---- omw-1.4')\n",
    "    nltk.download('omw-1.4')"
   ]
  },
  {
   "cell_type": "code",
   "execution_count": 113,
   "metadata": {},
   "outputs": [],
   "source": [
    "data_root_folder = \"../data/\"\n",
    "stopwords_en = set(stopwords.words('english'))"
   ]
  },
  {
   "cell_type": "markdown",
   "metadata": {},
   "source": [
    "## Read data"
   ]
  },
  {
   "cell_type": "code",
   "execution_count": 114,
   "metadata": {},
   "outputs": [],
   "source": [
    "data_train, data_dev = utils.load_data(data_root_folder)\n",
    "articles = utils.load_articles()"
   ]
  },
  {
   "cell_type": "code",
   "execution_count": 115,
   "metadata": {},
   "outputs": [],
   "source": [
    "data_train, data_dev = utils.load_data(data_root_folder)\n",
    "articles = utils.load_articles()\n",
    "# lower textual data\n",
    "data_train['essay'] = data_train['essay'].apply(lambda x: x.lower())\n",
    "articles['text'] = articles['text'].apply(lambda x: x.lower())\n",
    "\n",
    "# tokenized version of the text\n",
    "data_train['essay_tok'] = data_train['essay'].apply(lambda x: nltk.word_tokenize(x))\n",
    "articles['text_tok'] = articles['text'].apply(lambda x: nltk.word_tokenize(x))\n",
    "\n",
    "# lemmatize\n",
    "lemmatizer = WordNetLemmatizer()  # lemmatize\n",
    "stemmer = PorterStemmer()\n",
    "data_train['essay_lem'] = data_train['essay_tok'].apply(lambda x: [lemmatizer.lemmatize(word) for word in x])\n",
    "articles['text_lem'] = articles['text_tok'].apply(lambda x: [lemmatizer.lemmatize(word) for word in x])"
   ]
  },
  {
   "cell_type": "code",
   "execution_count": 116,
   "metadata": {},
   "outputs": [
    {
     "name": "stdout",
     "output_type": "stream",
     "text": [
      "rocks : rock\n",
      "corpora : corpus\n",
      "better : good\n"
     ]
    }
   ],
   "source": [
    "# source: https://www.geeksforgeeks.org/python-lemmatization-with-nltk/\n",
    "\n",
    " \n",
    "lemmatizer = WordNetLemmatizer()\n",
    " \n",
    "print(\"rocks :\", lemmatizer.lemmatize(\"rocks\"))\n",
    "print(\"corpora :\", lemmatizer.lemmatize(\"corpora\"))\n",
    " \n",
    "# a denotes adjective in \"pos\"\n",
    "print(\"better :\", lemmatizer.lemmatize(\"better\", pos =\"a\"))"
   ]
  },
  {
   "cell_type": "code",
   "execution_count": 117,
   "metadata": {},
   "outputs": [
    {
     "name": "stdout",
     "output_type": "stream",
     "text": [
      "'abhorrent ' bottle attack on young rangers fan before celtic game — police have described a bottle attack on an 11-year-old rangers fan before sunday 's league cup semi-final game with celtic as `` abhorrent '' . kraig mackay suffered a large cut to his head after being hit by the bottle while walking in aitkenhead road , glasgow , at about 14:00 on sunday . pictures on social media showed kraig with a large gash and a bandage on his head . police have appealed for help to find the person responsible . the boy was walking with his\n",
      "\n",
      "'abhorrent ' bottle attack on young ranger fan before celtic game — police have described a bottle attack on an 11-year-old ranger fan before sunday 's league cup semi-final game with celtic a `` abhorrent '' . kraig mackay suffered a large cut to his head after being hit by the bottle while walking in aitkenhead road , glasgow , at about 14:00 on sunday . picture on social medium showed kraig with a large gash and a bandage on his head . police have appealed for help to find the person responsible . the boy wa walking with his\n"
     ]
    }
   ],
   "source": [
    "tok = ' '.join(articles[:1]['text_tok'].item()[:100])\n",
    "lems = ' '.join(articles[:1]['text_lem'].item()[:100])\n",
    "\n",
    "print(tok)\n",
    "print()\n",
    "print(lems)\n"
   ]
  },
  {
   "cell_type": "markdown",
   "metadata": {},
   "source": [
    "# Test on history for early stopping"
   ]
  },
  {
   "cell_type": "code",
   "execution_count": 118,
   "metadata": {},
   "outputs": [
    {
     "ename": "FileNotFoundError",
     "evalue": "[Errno 2] No such file or directory: '../output/history_multiinput_empathy.csv'",
     "output_type": "error",
     "traceback": [
      "\u001b[0;31m---------------------------------------------------------------------------\u001b[0m",
      "\u001b[0;31mFileNotFoundError\u001b[0m                         Traceback (most recent call last)",
      "\u001b[1;32m/Users/myra/git/Projects/2022_Masterthesis_Code/analysis/tryout.ipynb Cell 10'\u001b[0m in \u001b[0;36m<cell line: 2>\u001b[0;34m()\u001b[0m\n\u001b[1;32m      <a href='vscode-notebook-cell:/Users/myra/git/Projects/2022_Masterthesis_Code/analysis/tryout.ipynb#ch0000009?line=0'>1</a>\u001b[0m \u001b[39m# to try code on single entry in beginning of training\u001b[39;00m\n\u001b[0;32m----> <a href='vscode-notebook-cell:/Users/myra/git/Projects/2022_Masterthesis_Code/analysis/tryout.ipynb#ch0000009?line=1'>2</a>\u001b[0m h_single \u001b[39m=\u001b[39m pd\u001b[39m.\u001b[39;49mread_csv(\u001b[39m'\u001b[39;49m\u001b[39m../output/history_multiinput_empathy.csv\u001b[39;49m\u001b[39m'\u001b[39;49m, index_col\u001b[39m=\u001b[39;49m\u001b[39m0\u001b[39;49m)[\u001b[39m1\u001b[39m:]\n",
      "File \u001b[0;32m/opt/homebrew/Caskroom/miniforge/base/envs/masterthesis_env/lib/python3.10/site-packages/pandas/util/_decorators.py:311\u001b[0m, in \u001b[0;36mdeprecate_nonkeyword_arguments.<locals>.decorate.<locals>.wrapper\u001b[0;34m(*args, **kwargs)\u001b[0m\n\u001b[1;32m    <a href='file:///opt/homebrew/Caskroom/miniforge/base/envs/masterthesis_env/lib/python3.10/site-packages/pandas/util/_decorators.py?line=304'>305</a>\u001b[0m \u001b[39mif\u001b[39;00m \u001b[39mlen\u001b[39m(args) \u001b[39m>\u001b[39m num_allow_args:\n\u001b[1;32m    <a href='file:///opt/homebrew/Caskroom/miniforge/base/envs/masterthesis_env/lib/python3.10/site-packages/pandas/util/_decorators.py?line=305'>306</a>\u001b[0m     warnings\u001b[39m.\u001b[39mwarn(\n\u001b[1;32m    <a href='file:///opt/homebrew/Caskroom/miniforge/base/envs/masterthesis_env/lib/python3.10/site-packages/pandas/util/_decorators.py?line=306'>307</a>\u001b[0m         msg\u001b[39m.\u001b[39mformat(arguments\u001b[39m=\u001b[39marguments),\n\u001b[1;32m    <a href='file:///opt/homebrew/Caskroom/miniforge/base/envs/masterthesis_env/lib/python3.10/site-packages/pandas/util/_decorators.py?line=307'>308</a>\u001b[0m         \u001b[39mFutureWarning\u001b[39;00m,\n\u001b[1;32m    <a href='file:///opt/homebrew/Caskroom/miniforge/base/envs/masterthesis_env/lib/python3.10/site-packages/pandas/util/_decorators.py?line=308'>309</a>\u001b[0m         stacklevel\u001b[39m=\u001b[39mstacklevel,\n\u001b[1;32m    <a href='file:///opt/homebrew/Caskroom/miniforge/base/envs/masterthesis_env/lib/python3.10/site-packages/pandas/util/_decorators.py?line=309'>310</a>\u001b[0m     )\n\u001b[0;32m--> <a href='file:///opt/homebrew/Caskroom/miniforge/base/envs/masterthesis_env/lib/python3.10/site-packages/pandas/util/_decorators.py?line=310'>311</a>\u001b[0m \u001b[39mreturn\u001b[39;00m func(\u001b[39m*\u001b[39;49margs, \u001b[39m*\u001b[39;49m\u001b[39m*\u001b[39;49mkwargs)\n",
      "File \u001b[0;32m/opt/homebrew/Caskroom/miniforge/base/envs/masterthesis_env/lib/python3.10/site-packages/pandas/io/parsers/readers.py:680\u001b[0m, in \u001b[0;36mread_csv\u001b[0;34m(filepath_or_buffer, sep, delimiter, header, names, index_col, usecols, squeeze, prefix, mangle_dupe_cols, dtype, engine, converters, true_values, false_values, skipinitialspace, skiprows, skipfooter, nrows, na_values, keep_default_na, na_filter, verbose, skip_blank_lines, parse_dates, infer_datetime_format, keep_date_col, date_parser, dayfirst, cache_dates, iterator, chunksize, compression, thousands, decimal, lineterminator, quotechar, quoting, doublequote, escapechar, comment, encoding, encoding_errors, dialect, error_bad_lines, warn_bad_lines, on_bad_lines, delim_whitespace, low_memory, memory_map, float_precision, storage_options)\u001b[0m\n\u001b[1;32m    <a href='file:///opt/homebrew/Caskroom/miniforge/base/envs/masterthesis_env/lib/python3.10/site-packages/pandas/io/parsers/readers.py?line=664'>665</a>\u001b[0m kwds_defaults \u001b[39m=\u001b[39m _refine_defaults_read(\n\u001b[1;32m    <a href='file:///opt/homebrew/Caskroom/miniforge/base/envs/masterthesis_env/lib/python3.10/site-packages/pandas/io/parsers/readers.py?line=665'>666</a>\u001b[0m     dialect,\n\u001b[1;32m    <a href='file:///opt/homebrew/Caskroom/miniforge/base/envs/masterthesis_env/lib/python3.10/site-packages/pandas/io/parsers/readers.py?line=666'>667</a>\u001b[0m     delimiter,\n\u001b[0;32m   (...)\u001b[0m\n\u001b[1;32m    <a href='file:///opt/homebrew/Caskroom/miniforge/base/envs/masterthesis_env/lib/python3.10/site-packages/pandas/io/parsers/readers.py?line=675'>676</a>\u001b[0m     defaults\u001b[39m=\u001b[39m{\u001b[39m\"\u001b[39m\u001b[39mdelimiter\u001b[39m\u001b[39m\"\u001b[39m: \u001b[39m\"\u001b[39m\u001b[39m,\u001b[39m\u001b[39m\"\u001b[39m},\n\u001b[1;32m    <a href='file:///opt/homebrew/Caskroom/miniforge/base/envs/masterthesis_env/lib/python3.10/site-packages/pandas/io/parsers/readers.py?line=676'>677</a>\u001b[0m )\n\u001b[1;32m    <a href='file:///opt/homebrew/Caskroom/miniforge/base/envs/masterthesis_env/lib/python3.10/site-packages/pandas/io/parsers/readers.py?line=677'>678</a>\u001b[0m kwds\u001b[39m.\u001b[39mupdate(kwds_defaults)\n\u001b[0;32m--> <a href='file:///opt/homebrew/Caskroom/miniforge/base/envs/masterthesis_env/lib/python3.10/site-packages/pandas/io/parsers/readers.py?line=679'>680</a>\u001b[0m \u001b[39mreturn\u001b[39;00m _read(filepath_or_buffer, kwds)\n",
      "File \u001b[0;32m/opt/homebrew/Caskroom/miniforge/base/envs/masterthesis_env/lib/python3.10/site-packages/pandas/io/parsers/readers.py:575\u001b[0m, in \u001b[0;36m_read\u001b[0;34m(filepath_or_buffer, kwds)\u001b[0m\n\u001b[1;32m    <a href='file:///opt/homebrew/Caskroom/miniforge/base/envs/masterthesis_env/lib/python3.10/site-packages/pandas/io/parsers/readers.py?line=571'>572</a>\u001b[0m _validate_names(kwds\u001b[39m.\u001b[39mget(\u001b[39m\"\u001b[39m\u001b[39mnames\u001b[39m\u001b[39m\"\u001b[39m, \u001b[39mNone\u001b[39;00m))\n\u001b[1;32m    <a href='file:///opt/homebrew/Caskroom/miniforge/base/envs/masterthesis_env/lib/python3.10/site-packages/pandas/io/parsers/readers.py?line=573'>574</a>\u001b[0m \u001b[39m# Create the parser.\u001b[39;00m\n\u001b[0;32m--> <a href='file:///opt/homebrew/Caskroom/miniforge/base/envs/masterthesis_env/lib/python3.10/site-packages/pandas/io/parsers/readers.py?line=574'>575</a>\u001b[0m parser \u001b[39m=\u001b[39m TextFileReader(filepath_or_buffer, \u001b[39m*\u001b[39;49m\u001b[39m*\u001b[39;49mkwds)\n\u001b[1;32m    <a href='file:///opt/homebrew/Caskroom/miniforge/base/envs/masterthesis_env/lib/python3.10/site-packages/pandas/io/parsers/readers.py?line=576'>577</a>\u001b[0m \u001b[39mif\u001b[39;00m chunksize \u001b[39mor\u001b[39;00m iterator:\n\u001b[1;32m    <a href='file:///opt/homebrew/Caskroom/miniforge/base/envs/masterthesis_env/lib/python3.10/site-packages/pandas/io/parsers/readers.py?line=577'>578</a>\u001b[0m     \u001b[39mreturn\u001b[39;00m parser\n",
      "File \u001b[0;32m/opt/homebrew/Caskroom/miniforge/base/envs/masterthesis_env/lib/python3.10/site-packages/pandas/io/parsers/readers.py:933\u001b[0m, in \u001b[0;36mTextFileReader.__init__\u001b[0;34m(self, f, engine, **kwds)\u001b[0m\n\u001b[1;32m    <a href='file:///opt/homebrew/Caskroom/miniforge/base/envs/masterthesis_env/lib/python3.10/site-packages/pandas/io/parsers/readers.py?line=929'>930</a>\u001b[0m     \u001b[39mself\u001b[39m\u001b[39m.\u001b[39moptions[\u001b[39m\"\u001b[39m\u001b[39mhas_index_names\u001b[39m\u001b[39m\"\u001b[39m] \u001b[39m=\u001b[39m kwds[\u001b[39m\"\u001b[39m\u001b[39mhas_index_names\u001b[39m\u001b[39m\"\u001b[39m]\n\u001b[1;32m    <a href='file:///opt/homebrew/Caskroom/miniforge/base/envs/masterthesis_env/lib/python3.10/site-packages/pandas/io/parsers/readers.py?line=931'>932</a>\u001b[0m \u001b[39mself\u001b[39m\u001b[39m.\u001b[39mhandles: IOHandles \u001b[39m|\u001b[39m \u001b[39mNone\u001b[39;00m \u001b[39m=\u001b[39m \u001b[39mNone\u001b[39;00m\n\u001b[0;32m--> <a href='file:///opt/homebrew/Caskroom/miniforge/base/envs/masterthesis_env/lib/python3.10/site-packages/pandas/io/parsers/readers.py?line=932'>933</a>\u001b[0m \u001b[39mself\u001b[39m\u001b[39m.\u001b[39m_engine \u001b[39m=\u001b[39m \u001b[39mself\u001b[39;49m\u001b[39m.\u001b[39;49m_make_engine(f, \u001b[39mself\u001b[39;49m\u001b[39m.\u001b[39;49mengine)\n",
      "File \u001b[0;32m/opt/homebrew/Caskroom/miniforge/base/envs/masterthesis_env/lib/python3.10/site-packages/pandas/io/parsers/readers.py:1217\u001b[0m, in \u001b[0;36mTextFileReader._make_engine\u001b[0;34m(self, f, engine)\u001b[0m\n\u001b[1;32m   <a href='file:///opt/homebrew/Caskroom/miniforge/base/envs/masterthesis_env/lib/python3.10/site-packages/pandas/io/parsers/readers.py?line=1212'>1213</a>\u001b[0m     mode \u001b[39m=\u001b[39m \u001b[39m\"\u001b[39m\u001b[39mrb\u001b[39m\u001b[39m\"\u001b[39m\n\u001b[1;32m   <a href='file:///opt/homebrew/Caskroom/miniforge/base/envs/masterthesis_env/lib/python3.10/site-packages/pandas/io/parsers/readers.py?line=1213'>1214</a>\u001b[0m \u001b[39m# error: No overload variant of \"get_handle\" matches argument types\u001b[39;00m\n\u001b[1;32m   <a href='file:///opt/homebrew/Caskroom/miniforge/base/envs/masterthesis_env/lib/python3.10/site-packages/pandas/io/parsers/readers.py?line=1214'>1215</a>\u001b[0m \u001b[39m# \"Union[str, PathLike[str], ReadCsvBuffer[bytes], ReadCsvBuffer[str]]\"\u001b[39;00m\n\u001b[1;32m   <a href='file:///opt/homebrew/Caskroom/miniforge/base/envs/masterthesis_env/lib/python3.10/site-packages/pandas/io/parsers/readers.py?line=1215'>1216</a>\u001b[0m \u001b[39m# , \"str\", \"bool\", \"Any\", \"Any\", \"Any\", \"Any\", \"Any\"\u001b[39;00m\n\u001b[0;32m-> <a href='file:///opt/homebrew/Caskroom/miniforge/base/envs/masterthesis_env/lib/python3.10/site-packages/pandas/io/parsers/readers.py?line=1216'>1217</a>\u001b[0m \u001b[39mself\u001b[39m\u001b[39m.\u001b[39mhandles \u001b[39m=\u001b[39m get_handle(  \u001b[39m# type: ignore[call-overload]\u001b[39;49;00m\n\u001b[1;32m   <a href='file:///opt/homebrew/Caskroom/miniforge/base/envs/masterthesis_env/lib/python3.10/site-packages/pandas/io/parsers/readers.py?line=1217'>1218</a>\u001b[0m     f,\n\u001b[1;32m   <a href='file:///opt/homebrew/Caskroom/miniforge/base/envs/masterthesis_env/lib/python3.10/site-packages/pandas/io/parsers/readers.py?line=1218'>1219</a>\u001b[0m     mode,\n\u001b[1;32m   <a href='file:///opt/homebrew/Caskroom/miniforge/base/envs/masterthesis_env/lib/python3.10/site-packages/pandas/io/parsers/readers.py?line=1219'>1220</a>\u001b[0m     encoding\u001b[39m=\u001b[39;49m\u001b[39mself\u001b[39;49m\u001b[39m.\u001b[39;49moptions\u001b[39m.\u001b[39;49mget(\u001b[39m\"\u001b[39;49m\u001b[39mencoding\u001b[39;49m\u001b[39m\"\u001b[39;49m, \u001b[39mNone\u001b[39;49;00m),\n\u001b[1;32m   <a href='file:///opt/homebrew/Caskroom/miniforge/base/envs/masterthesis_env/lib/python3.10/site-packages/pandas/io/parsers/readers.py?line=1220'>1221</a>\u001b[0m     compression\u001b[39m=\u001b[39;49m\u001b[39mself\u001b[39;49m\u001b[39m.\u001b[39;49moptions\u001b[39m.\u001b[39;49mget(\u001b[39m\"\u001b[39;49m\u001b[39mcompression\u001b[39;49m\u001b[39m\"\u001b[39;49m, \u001b[39mNone\u001b[39;49;00m),\n\u001b[1;32m   <a href='file:///opt/homebrew/Caskroom/miniforge/base/envs/masterthesis_env/lib/python3.10/site-packages/pandas/io/parsers/readers.py?line=1221'>1222</a>\u001b[0m     memory_map\u001b[39m=\u001b[39;49m\u001b[39mself\u001b[39;49m\u001b[39m.\u001b[39;49moptions\u001b[39m.\u001b[39;49mget(\u001b[39m\"\u001b[39;49m\u001b[39mmemory_map\u001b[39;49m\u001b[39m\"\u001b[39;49m, \u001b[39mFalse\u001b[39;49;00m),\n\u001b[1;32m   <a href='file:///opt/homebrew/Caskroom/miniforge/base/envs/masterthesis_env/lib/python3.10/site-packages/pandas/io/parsers/readers.py?line=1222'>1223</a>\u001b[0m     is_text\u001b[39m=\u001b[39;49mis_text,\n\u001b[1;32m   <a href='file:///opt/homebrew/Caskroom/miniforge/base/envs/masterthesis_env/lib/python3.10/site-packages/pandas/io/parsers/readers.py?line=1223'>1224</a>\u001b[0m     errors\u001b[39m=\u001b[39;49m\u001b[39mself\u001b[39;49m\u001b[39m.\u001b[39;49moptions\u001b[39m.\u001b[39;49mget(\u001b[39m\"\u001b[39;49m\u001b[39mencoding_errors\u001b[39;49m\u001b[39m\"\u001b[39;49m, \u001b[39m\"\u001b[39;49m\u001b[39mstrict\u001b[39;49m\u001b[39m\"\u001b[39;49m),\n\u001b[1;32m   <a href='file:///opt/homebrew/Caskroom/miniforge/base/envs/masterthesis_env/lib/python3.10/site-packages/pandas/io/parsers/readers.py?line=1224'>1225</a>\u001b[0m     storage_options\u001b[39m=\u001b[39;49m\u001b[39mself\u001b[39;49m\u001b[39m.\u001b[39;49moptions\u001b[39m.\u001b[39;49mget(\u001b[39m\"\u001b[39;49m\u001b[39mstorage_options\u001b[39;49m\u001b[39m\"\u001b[39;49m, \u001b[39mNone\u001b[39;49;00m),\n\u001b[1;32m   <a href='file:///opt/homebrew/Caskroom/miniforge/base/envs/masterthesis_env/lib/python3.10/site-packages/pandas/io/parsers/readers.py?line=1225'>1226</a>\u001b[0m )\n\u001b[1;32m   <a href='file:///opt/homebrew/Caskroom/miniforge/base/envs/masterthesis_env/lib/python3.10/site-packages/pandas/io/parsers/readers.py?line=1226'>1227</a>\u001b[0m \u001b[39massert\u001b[39;00m \u001b[39mself\u001b[39m\u001b[39m.\u001b[39mhandles \u001b[39mis\u001b[39;00m \u001b[39mnot\u001b[39;00m \u001b[39mNone\u001b[39;00m\n\u001b[1;32m   <a href='file:///opt/homebrew/Caskroom/miniforge/base/envs/masterthesis_env/lib/python3.10/site-packages/pandas/io/parsers/readers.py?line=1227'>1228</a>\u001b[0m f \u001b[39m=\u001b[39m \u001b[39mself\u001b[39m\u001b[39m.\u001b[39mhandles\u001b[39m.\u001b[39mhandle\n",
      "File \u001b[0;32m/opt/homebrew/Caskroom/miniforge/base/envs/masterthesis_env/lib/python3.10/site-packages/pandas/io/common.py:789\u001b[0m, in \u001b[0;36mget_handle\u001b[0;34m(path_or_buf, mode, encoding, compression, memory_map, is_text, errors, storage_options)\u001b[0m\n\u001b[1;32m    <a href='file:///opt/homebrew/Caskroom/miniforge/base/envs/masterthesis_env/lib/python3.10/site-packages/pandas/io/common.py?line=783'>784</a>\u001b[0m \u001b[39melif\u001b[39;00m \u001b[39misinstance\u001b[39m(handle, \u001b[39mstr\u001b[39m):\n\u001b[1;32m    <a href='file:///opt/homebrew/Caskroom/miniforge/base/envs/masterthesis_env/lib/python3.10/site-packages/pandas/io/common.py?line=784'>785</a>\u001b[0m     \u001b[39m# Check whether the filename is to be opened in binary mode.\u001b[39;00m\n\u001b[1;32m    <a href='file:///opt/homebrew/Caskroom/miniforge/base/envs/masterthesis_env/lib/python3.10/site-packages/pandas/io/common.py?line=785'>786</a>\u001b[0m     \u001b[39m# Binary mode does not support 'encoding' and 'newline'.\u001b[39;00m\n\u001b[1;32m    <a href='file:///opt/homebrew/Caskroom/miniforge/base/envs/masterthesis_env/lib/python3.10/site-packages/pandas/io/common.py?line=786'>787</a>\u001b[0m     \u001b[39mif\u001b[39;00m ioargs\u001b[39m.\u001b[39mencoding \u001b[39mand\u001b[39;00m \u001b[39m\"\u001b[39m\u001b[39mb\u001b[39m\u001b[39m\"\u001b[39m \u001b[39mnot\u001b[39;00m \u001b[39min\u001b[39;00m ioargs\u001b[39m.\u001b[39mmode:\n\u001b[1;32m    <a href='file:///opt/homebrew/Caskroom/miniforge/base/envs/masterthesis_env/lib/python3.10/site-packages/pandas/io/common.py?line=787'>788</a>\u001b[0m         \u001b[39m# Encoding\u001b[39;00m\n\u001b[0;32m--> <a href='file:///opt/homebrew/Caskroom/miniforge/base/envs/masterthesis_env/lib/python3.10/site-packages/pandas/io/common.py?line=788'>789</a>\u001b[0m         handle \u001b[39m=\u001b[39m \u001b[39mopen\u001b[39;49m(\n\u001b[1;32m    <a href='file:///opt/homebrew/Caskroom/miniforge/base/envs/masterthesis_env/lib/python3.10/site-packages/pandas/io/common.py?line=789'>790</a>\u001b[0m             handle,\n\u001b[1;32m    <a href='file:///opt/homebrew/Caskroom/miniforge/base/envs/masterthesis_env/lib/python3.10/site-packages/pandas/io/common.py?line=790'>791</a>\u001b[0m             ioargs\u001b[39m.\u001b[39;49mmode,\n\u001b[1;32m    <a href='file:///opt/homebrew/Caskroom/miniforge/base/envs/masterthesis_env/lib/python3.10/site-packages/pandas/io/common.py?line=791'>792</a>\u001b[0m             encoding\u001b[39m=\u001b[39;49mioargs\u001b[39m.\u001b[39;49mencoding,\n\u001b[1;32m    <a href='file:///opt/homebrew/Caskroom/miniforge/base/envs/masterthesis_env/lib/python3.10/site-packages/pandas/io/common.py?line=792'>793</a>\u001b[0m             errors\u001b[39m=\u001b[39;49merrors,\n\u001b[1;32m    <a href='file:///opt/homebrew/Caskroom/miniforge/base/envs/masterthesis_env/lib/python3.10/site-packages/pandas/io/common.py?line=793'>794</a>\u001b[0m             newline\u001b[39m=\u001b[39;49m\u001b[39m\"\u001b[39;49m\u001b[39m\"\u001b[39;49m,\n\u001b[1;32m    <a href='file:///opt/homebrew/Caskroom/miniforge/base/envs/masterthesis_env/lib/python3.10/site-packages/pandas/io/common.py?line=794'>795</a>\u001b[0m         )\n\u001b[1;32m    <a href='file:///opt/homebrew/Caskroom/miniforge/base/envs/masterthesis_env/lib/python3.10/site-packages/pandas/io/common.py?line=795'>796</a>\u001b[0m     \u001b[39melse\u001b[39;00m:\n\u001b[1;32m    <a href='file:///opt/homebrew/Caskroom/miniforge/base/envs/masterthesis_env/lib/python3.10/site-packages/pandas/io/common.py?line=796'>797</a>\u001b[0m         \u001b[39m# Binary mode\u001b[39;00m\n\u001b[1;32m    <a href='file:///opt/homebrew/Caskroom/miniforge/base/envs/masterthesis_env/lib/python3.10/site-packages/pandas/io/common.py?line=797'>798</a>\u001b[0m         handle \u001b[39m=\u001b[39m \u001b[39mopen\u001b[39m(handle, ioargs\u001b[39m.\u001b[39mmode)\n",
      "\u001b[0;31mFileNotFoundError\u001b[0m: [Errno 2] No such file or directory: '../output/history_multiinput_empathy.csv'"
     ]
    }
   ],
   "source": [
    "# to try code on single entry in beginning of training\n",
    "h_single = pd.read_csv('../output/history_multiinput_empathy.csv', index_col=0)[1:]"
   ]
  },
  {
   "cell_type": "code",
   "execution_count": null,
   "metadata": {},
   "outputs": [
    {
     "data": {
      "text/html": [
       "<div>\n",
       "<style scoped>\n",
       "    .dataframe tbody tr th:only-of-type {\n",
       "        vertical-align: middle;\n",
       "    }\n",
       "\n",
       "    .dataframe tbody tr th {\n",
       "        vertical-align: top;\n",
       "    }\n",
       "\n",
       "    .dataframe thead th {\n",
       "        text-align: right;\n",
       "    }\n",
       "</style>\n",
       "<table border=\"1\" class=\"dataframe\">\n",
       "  <thead>\n",
       "    <tr style=\"text-align: right;\">\n",
       "      <th></th>\n",
       "      <th>epoch</th>\n",
       "      <th>avrg_dev_loss</th>\n",
       "      <th>avrg_dev_r2</th>\n",
       "      <th>dev_corr</th>\n",
       "      <th>train_corr</th>\n",
       "    </tr>\n",
       "  </thead>\n",
       "  <tbody>\n",
       "    <tr>\n",
       "      <th>0</th>\n",
       "      <td>0.0</td>\n",
       "      <td>0.316782</td>\n",
       "      <td>-2.719167</td>\n",
       "      <td>-0.797076</td>\n",
       "      <td>-0.475792</td>\n",
       "    </tr>\n",
       "    <tr>\n",
       "      <th>1</th>\n",
       "      <td>1.0</td>\n",
       "      <td>0.353231</td>\n",
       "      <td>-26.486209</td>\n",
       "      <td>-0.793982</td>\n",
       "      <td>-0.485336</td>\n",
       "    </tr>\n",
       "    <tr>\n",
       "      <th>2</th>\n",
       "      <td>2.0</td>\n",
       "      <td>0.300000</td>\n",
       "      <td>-2.710000</td>\n",
       "      <td>0.300000</td>\n",
       "      <td>0.500000</td>\n",
       "    </tr>\n",
       "    <tr>\n",
       "      <th>3</th>\n",
       "      <td>3.0</td>\n",
       "      <td>0.400000</td>\n",
       "      <td>-2.710000</td>\n",
       "      <td>0.210000</td>\n",
       "      <td>0.600000</td>\n",
       "    </tr>\n",
       "    <tr>\n",
       "      <th>4</th>\n",
       "      <td>4.0</td>\n",
       "      <td>0.300000</td>\n",
       "      <td>-2.710000</td>\n",
       "      <td>0.200000</td>\n",
       "      <td>0.700000</td>\n",
       "    </tr>\n",
       "    <tr>\n",
       "      <th>5</th>\n",
       "      <td>5.0</td>\n",
       "      <td>0.600000</td>\n",
       "      <td>-2.710000</td>\n",
       "      <td>0.300000</td>\n",
       "      <td>0.500000</td>\n",
       "    </tr>\n",
       "    <tr>\n",
       "      <th>6</th>\n",
       "      <td>6.0</td>\n",
       "      <td>0.610000</td>\n",
       "      <td>-2.710000</td>\n",
       "      <td>0.210000</td>\n",
       "      <td>0.600000</td>\n",
       "    </tr>\n",
       "    <tr>\n",
       "      <th>7</th>\n",
       "      <td>7.0</td>\n",
       "      <td>0.200000</td>\n",
       "      <td>-2.710000</td>\n",
       "      <td>0.200000</td>\n",
       "      <td>0.700000</td>\n",
       "    </tr>\n",
       "    <tr>\n",
       "      <th>8</th>\n",
       "      <td>8.0</td>\n",
       "      <td>0.500000</td>\n",
       "      <td>-2.710000</td>\n",
       "      <td>0.300000</td>\n",
       "      <td>0.500000</td>\n",
       "    </tr>\n",
       "    <tr>\n",
       "      <th>9</th>\n",
       "      <td>9.0</td>\n",
       "      <td>0.500000</td>\n",
       "      <td>-2.710000</td>\n",
       "      <td>0.210000</td>\n",
       "      <td>0.600000</td>\n",
       "    </tr>\n",
       "    <tr>\n",
       "      <th>10</th>\n",
       "      <td>10.0</td>\n",
       "      <td>0.500000</td>\n",
       "      <td>-2.710000</td>\n",
       "      <td>0.200000</td>\n",
       "      <td>0.700000</td>\n",
       "    </tr>\n",
       "  </tbody>\n",
       "</table>\n",
       "</div>"
      ],
      "text/plain": [
       "    epoch  avrg_dev_loss  avrg_dev_r2  dev_corr  train_corr\n",
       "0     0.0       0.316782    -2.719167 -0.797076   -0.475792\n",
       "1     1.0       0.353231   -26.486209 -0.793982   -0.485336\n",
       "2     2.0       0.300000    -2.710000  0.300000    0.500000\n",
       "3     3.0       0.400000    -2.710000  0.210000    0.600000\n",
       "4     4.0       0.300000    -2.710000  0.200000    0.700000\n",
       "5     5.0       0.600000    -2.710000  0.300000    0.500000\n",
       "6     6.0       0.610000    -2.710000  0.210000    0.600000\n",
       "7     7.0       0.200000    -2.710000  0.200000    0.700000\n",
       "8     8.0       0.500000    -2.710000  0.300000    0.500000\n",
       "9     9.0       0.500000    -2.710000  0.210000    0.600000\n",
       "10   10.0       0.500000    -2.710000  0.200000    0.700000"
      ]
     },
     "execution_count": 63,
     "metadata": {},
     "output_type": "execute_result"
    }
   ],
   "source": [
    "h = pd.read_csv('../output/history_multiinput_empathy.csv', index_col=0)\n",
    "h2 = pd.DataFrame({'epoch': [2,3,4,5,6,7,8,9,10], 'avrg_dev_loss': [0.3, 0.4, 0.3, 0.6, 0.61, 0.2, 0.5, 0.5, 0.5], 'avrg_dev_r2': [-2.71, -2.71, -2.71, -2.71, -2.71, -2.71, -2.71, -2.71, -2.71], 'dev_corr':[0.3, 0.21, 0.2, 0.3, 0.21, 0.2, 0.3, 0.21, 0.2], 'train_corr': [0.5, 0.6, 0.7, 0.5, 0.6, 0.7, 0.5, 0.6, 0.7]}, index=[2,3,4,5,6,7,8,9,10])\n",
    "h2\n",
    "h = pd.concat([h, h2])\n",
    "h"
   ]
  },
  {
   "cell_type": "code",
   "execution_count": null,
   "metadata": {},
   "outputs": [
    {
     "name": "stdout",
     "output_type": "stream",
     "text": [
      "0\n",
      "1\n",
      "0\n",
      "1\n",
      "0\n",
      "1\n",
      "2\n",
      "early stopping at epoch 6\n",
      "[0. 0. 0. 0. 0. 0. 1. 0. 0. 0. 0.]\n",
      "    epoch  avrg_dev_loss  avrg_dev_r2  dev_corr  train_corr  early_stopping\n",
      "0     0.0       0.316782    -2.719167 -0.797076   -0.475792             0.0\n",
      "1     1.0       0.353231   -26.486209 -0.793982   -0.485336             0.0\n",
      "2     2.0       0.300000    -2.710000  0.300000    0.500000             0.0\n",
      "3     3.0       0.400000    -2.710000  0.210000    0.600000             0.0\n",
      "4     4.0       0.300000    -2.710000  0.200000    0.700000             0.0\n",
      "5     5.0       0.600000    -2.710000  0.300000    0.500000             0.0\n",
      "6     6.0       0.610000    -2.710000  0.210000    0.600000             1.0\n",
      "7     7.0       0.200000    -2.710000  0.200000    0.700000             0.0\n",
      "8     8.0       0.500000    -2.710000  0.300000    0.500000             0.0\n",
      "9     9.0       0.500000    -2.710000  0.210000    0.600000             0.0\n",
      "10   10.0       0.500000    -2.710000  0.200000    0.700000             0.0\n"
     ]
    }
   ],
   "source": [
    "hist = h_single\n",
    "early_stop_toleance = 2\n",
    "hi = h_single\n",
    "hi = h\n",
    "worse_loss = 0\n",
    "for i in range(hi.shape[0]):\n",
    "    hist = hi[:(i+1)]\n",
    "    \n",
    "\n",
    "    all_dev_loss = hist['avrg_dev_loss'].to_numpy()\n",
    "    if all_dev_loss.shape[0] > 1:  # not possible in first epoch\n",
    "        if all_dev_loss[-2] <= all_dev_loss[-1]:\n",
    "            worse_loss += 1\n",
    "        else:\n",
    "            worse_loss = 0\n",
    "    print(worse_loss)\n",
    "    if worse_loss == early_stop_toleance:\n",
    "        print('early stopping at epoch', i)\n",
    "        model_saved_at = np.zeros(hi.shape[0])  # array with 0 and 1, 1 is the one where we have early stopping. This model is saved\n",
    "        epoch_i = i  # to remove\n",
    "        model_saved_at[int(epoch_i)] = 1\n",
    "        hi['early_stopping'] = model_saved_at\n",
    "        print(model_saved_at)\n",
    "        print(hi)\n",
    "        break\n"
   ]
  },
  {
   "cell_type": "code",
   "execution_count": null,
   "metadata": {},
   "outputs": [
    {
     "data": {
      "text/html": [
       "<div>\n",
       "<style scoped>\n",
       "    .dataframe tbody tr th:only-of-type {\n",
       "        vertical-align: middle;\n",
       "    }\n",
       "\n",
       "    .dataframe tbody tr th {\n",
       "        vertical-align: top;\n",
       "    }\n",
       "\n",
       "    .dataframe thead th {\n",
       "        text-align: right;\n",
       "    }\n",
       "</style>\n",
       "<table border=\"1\" class=\"dataframe\">\n",
       "  <thead>\n",
       "    <tr style=\"text-align: right;\">\n",
       "      <th></th>\n",
       "      <th>epoch</th>\n",
       "      <th>avrg_dev_loss</th>\n",
       "      <th>avrg_dev_r2</th>\n",
       "      <th>dev_corr</th>\n",
       "      <th>train_corr</th>\n",
       "      <th>early_stopping</th>\n",
       "    </tr>\n",
       "  </thead>\n",
       "  <tbody>\n",
       "    <tr>\n",
       "      <th>0</th>\n",
       "      <td>0.0</td>\n",
       "      <td>0.316782</td>\n",
       "      <td>-2.719167</td>\n",
       "      <td>-0.797076</td>\n",
       "      <td>-0.475792</td>\n",
       "      <td>0.0</td>\n",
       "    </tr>\n",
       "    <tr>\n",
       "      <th>1</th>\n",
       "      <td>1.0</td>\n",
       "      <td>0.353231</td>\n",
       "      <td>-26.486209</td>\n",
       "      <td>-0.793982</td>\n",
       "      <td>-0.485336</td>\n",
       "      <td>0.0</td>\n",
       "    </tr>\n",
       "    <tr>\n",
       "      <th>2</th>\n",
       "      <td>2.0</td>\n",
       "      <td>0.300000</td>\n",
       "      <td>-2.710000</td>\n",
       "      <td>0.300000</td>\n",
       "      <td>0.500000</td>\n",
       "      <td>0.0</td>\n",
       "    </tr>\n",
       "    <tr>\n",
       "      <th>3</th>\n",
       "      <td>3.0</td>\n",
       "      <td>0.400000</td>\n",
       "      <td>-2.710000</td>\n",
       "      <td>0.210000</td>\n",
       "      <td>0.600000</td>\n",
       "      <td>0.0</td>\n",
       "    </tr>\n",
       "    <tr>\n",
       "      <th>4</th>\n",
       "      <td>4.0</td>\n",
       "      <td>0.300000</td>\n",
       "      <td>-2.710000</td>\n",
       "      <td>0.200000</td>\n",
       "      <td>0.700000</td>\n",
       "      <td>0.0</td>\n",
       "    </tr>\n",
       "    <tr>\n",
       "      <th>5</th>\n",
       "      <td>5.0</td>\n",
       "      <td>0.600000</td>\n",
       "      <td>-2.710000</td>\n",
       "      <td>0.300000</td>\n",
       "      <td>0.500000</td>\n",
       "      <td>0.0</td>\n",
       "    </tr>\n",
       "    <tr>\n",
       "      <th>6</th>\n",
       "      <td>6.0</td>\n",
       "      <td>0.610000</td>\n",
       "      <td>-2.710000</td>\n",
       "      <td>0.210000</td>\n",
       "      <td>0.600000</td>\n",
       "      <td>1.0</td>\n",
       "    </tr>\n",
       "    <tr>\n",
       "      <th>7</th>\n",
       "      <td>7.0</td>\n",
       "      <td>0.200000</td>\n",
       "      <td>-2.710000</td>\n",
       "      <td>0.200000</td>\n",
       "      <td>0.700000</td>\n",
       "      <td>0.0</td>\n",
       "    </tr>\n",
       "    <tr>\n",
       "      <th>8</th>\n",
       "      <td>8.0</td>\n",
       "      <td>0.500000</td>\n",
       "      <td>-2.710000</td>\n",
       "      <td>0.300000</td>\n",
       "      <td>0.500000</td>\n",
       "      <td>0.0</td>\n",
       "    </tr>\n",
       "    <tr>\n",
       "      <th>9</th>\n",
       "      <td>9.0</td>\n",
       "      <td>0.500000</td>\n",
       "      <td>-2.710000</td>\n",
       "      <td>0.210000</td>\n",
       "      <td>0.600000</td>\n",
       "      <td>0.0</td>\n",
       "    </tr>\n",
       "    <tr>\n",
       "      <th>10</th>\n",
       "      <td>10.0</td>\n",
       "      <td>0.500000</td>\n",
       "      <td>-2.710000</td>\n",
       "      <td>0.200000</td>\n",
       "      <td>0.700000</td>\n",
       "      <td>0.0</td>\n",
       "    </tr>\n",
       "  </tbody>\n",
       "</table>\n",
       "</div>"
      ],
      "text/plain": [
       "    epoch  avrg_dev_loss  avrg_dev_r2  dev_corr  train_corr  early_stopping\n",
       "0     0.0       0.316782    -2.719167 -0.797076   -0.475792             0.0\n",
       "1     1.0       0.353231   -26.486209 -0.793982   -0.485336             0.0\n",
       "2     2.0       0.300000    -2.710000  0.300000    0.500000             0.0\n",
       "3     3.0       0.400000    -2.710000  0.210000    0.600000             0.0\n",
       "4     4.0       0.300000    -2.710000  0.200000    0.700000             0.0\n",
       "5     5.0       0.600000    -2.710000  0.300000    0.500000             0.0\n",
       "6     6.0       0.610000    -2.710000  0.210000    0.600000             1.0\n",
       "7     7.0       0.200000    -2.710000  0.200000    0.700000             0.0\n",
       "8     8.0       0.500000    -2.710000  0.300000    0.500000             0.0\n",
       "9     9.0       0.500000    -2.710000  0.210000    0.600000             0.0\n",
       "10   10.0       0.500000    -2.710000  0.200000    0.700000             0.0"
      ]
     },
     "execution_count": 71,
     "metadata": {},
     "output_type": "execute_result"
    }
   ],
   "source": [
    "h"
   ]
  },
  {
   "cell_type": "code",
   "execution_count": null,
   "metadata": {},
   "outputs": [
    {
     "data": {
      "text/plain": [
       "0.7176569171713936"
      ]
     },
     "execution_count": 4,
     "metadata": {},
     "output_type": "execute_result"
    }
   ],
   "source": [
    "894528 / 124645632 * 100\n"
   ]
  },
  {
   "cell_type": "code",
   "execution_count": null,
   "metadata": {},
   "outputs": [],
   "source": [
    "import datasets\n",
    "import numpy as np"
   ]
  },
  {
   "cell_type": "code",
   "execution_count": null,
   "metadata": {},
   "outputs": [
    {
     "data": {
      "text/plain": [
       "Dataset({\n",
       "    features: ['a', 'b'],\n",
       "    num_rows: 100\n",
       "})"
      ]
     },
     "execution_count": 19,
     "metadata": {},
     "output_type": "execute_result"
    }
   ],
   "source": [
    "a = np.random.rand(100)\n",
    "b = np.random.rand(100)\n",
    "datasets.Dataset.from_dict({'a': a, 'b': b})"
   ]
  },
  {
   "cell_type": "code",
   "execution_count": null,
   "metadata": {},
   "outputs": [
    {
     "data": {
      "text/plain": [
       "0.07083421742359375"
      ]
     },
     "execution_count": 20,
     "metadata": {},
     "output_type": "execute_result"
    }
   ],
   "source": [
    "from scipy.stats import pearsonr\n",
    "r, p = pearsonr(a, b)\n",
    "r"
   ]
  },
  {
   "cell_type": "code",
   "execution_count": 2,
   "metadata": {},
   "outputs": [
    {
     "data": {
      "text/plain": [
       "(array([ 2.,  2.,  7., 12., 16., 15.,  7.,  4.,  0.,  2.]),\n",
       " array([2.5 , 2.95, 3.4 , 3.85, 4.3 , 4.75, 5.2 , 5.65, 6.1 , 6.55, 7.  ]),\n",
       " <BarContainer object of 10 artists>)"
      ]
     },
     "execution_count": 2,
     "metadata": {},
     "output_type": "execute_result"
    },
    {
     "data": {
      "image/png": "[encoded data removed]",
      "text/plain": [
       "<Figure size 432x288 with 1 Axes>"
      ]
     },
     "metadata": {},
     "output_type": "display_data"
    }
   ],
   "source": [
    "import matplotlib.pyplot as plt\n",
    "import numpy as np\n",
    "a = np.array([1,1,1,1,2,2,2,2,2,2,3,3,3,3,3,3,3,3,3.5,3.5,3.5,3.5,3.5,3.5,3.5,4,4,4,4,4,4,4,4,4,5,5,5,5,5,5,5,5.5,5.5,5.5,5.5,5.5,6,6,6,7,7,8])\n",
    "plt.hist(a, alpha = 0.5)\n",
    "b = np.array([2.5,2.5,3,3,3.5,3.5,3.5,3.5,3.5,3.5,3.5,4,4,4,4,4,4,4,4,4,4,4,4,4.5,4.5,4.5,4.5,4.5,4.5,4.5,4.5,4.5,4.5,4.5,4.5,4.5,4.5,4.5,4.5,5,5,5,5,5,5,5,5,5,5,5,5,5,5,5,5.5,5.5,5.5,5.5,5.5,5.5,5.5,6,6,6,6,7,7])\n",
    "plt.hist(b, alpha=0.5)"
   ]
  },
  {
   "cell_type": "code",
   "execution_count": 3,
   "metadata": {},
   "outputs": [
    {
     "data": {
      "image/png": "[encoded data removed]",
      "text/plain": [
       "<Figure size 432x288 with 2 Axes>"
      ]
     },
     "metadata": {},
     "output_type": "display_data"
    }
   ],
   "source": [
    "data = [('a',a), ('b', b)]\n",
    "\n",
    "len_data = len(data)\n",
    "fig, axs = plt.subplots(1, len_data, sharey=True)\n",
    "for i, (n, d) in enumerate(data):\n",
    "    axs[i].hist(d, orientation=\"horizontal\")\n",
    "    axs[i].set_title(n)"
   ]
  },
  {
   "cell_type": "code",
   "execution_count": 4,
   "metadata": {},
   "outputs": [
    {
     "data": {
      "text/plain": [
       "'2'"
      ]
     },
     "execution_count": 4,
     "metadata": {},
     "output_type": "execute_result"
    }
   ],
   "source": [
    "import re\n",
    "\n",
    "text = 'tes.123,layer2'\n",
    "\n",
    "layer = re.search('layer[0-9]{1,}', text)\n",
    "layer_num = re.search('[0-9]{1,}', layer.group(0)).group(0)\n",
    "layer_num\n",
    "#if m:\n",
    "#    found = m.group(1)\n",
    "#found"
   ]
  },
  {
   "cell_type": "code",
   "execution_count": 5,
   "metadata": {},
   "outputs": [
    {
     "data": {
      "image/png": "[encoded data removed]",
      "text/plain": [
       "<Figure size 1440x2160 with 24 Axes>"
      ]
     },
     "metadata": {},
     "output_type": "display_data"
    },
    {
     "data": {
      "image/png": "[encoded data removed]",
      "text/plain": [
       "<Figure size 720x2160 with 6 Axes>"
      ]
     },
     "metadata": {},
     "output_type": "display_data"
    }
   ],
   "source": [
    "n = np.random.rand(10)\n",
    "amount = 10\n",
    "grads = [('lora.layer.1', np.random.rand(amount)),('lora.layer.10', np.random.rand(amount)),('lora.layer.12', np.random.rand(amount)),('lora.layer.12', np.random.rand(amount)),('lora.layer.11', np.random.rand(amount)),('lora.layer.10', np.random.rand(amount)), ('layer.1.prefix', np.random.rand(amount)*0.3), ('layer.0.lora', np.random.rand(amount)*0.8), ('layer.1.adapters', np.random.rand(amount)*0.5), ('layer.2.lora', np.random.rand(amount)*0.8), ('layer.0.prefix', np.random.rand(amount)*0.3), ('layer.2.prefix', np.random.rand(amount)*0.1), ('layer.1.bitfit', np.random.rand(amount)*0.8), ('layer.2.adapters', np.random.rand(amount)*0.4)]\n",
    "sort_by_layer = {}\n",
    "for (n, grad) in grads:\n",
    "    layer = re.search('layer\\.[0-9]{1,}', n)\n",
    "    layer_num = re.search('[0-9]{1,}', layer.group(0)).group(0)\n",
    "    if layer_num not in sort_by_layer:\n",
    "        sort_by_layer[layer_num] = [(n, grad)]\n",
    "    else:\n",
    "        sort_by_layer[layer_num].append((n, grad))\n",
    "\n",
    "sub_fig_y = len(sort_by_layer.keys())\n",
    "sub_fig_x = max([len(sort_by_layer[key]) for key in sort_by_layer.keys()])\n",
    "\n",
    "fig, axs = plt.subplots(sub_fig_y, sub_fig_x, sharey=True, sharex=True, figsize=(sub_fig_x*5, sub_fig_y*5))\n",
    "\n",
    "for i, (key, val) in enumerate(sorted(sort_by_layer.items(), key=lambda x: x[0])):\n",
    "    key_num = int(key)\n",
    "    for j, (n, grads) in enumerate(val):\n",
    "        axs[i, j].hist(grads, orientation=\"horizontal\")\n",
    "        axs[i,j].set_title(n)\n",
    "\n",
    "plt.show()\n",
    "plt.close()\n",
    "\n",
    "\n",
    "fig, axs = plt.subplots(sub_fig_y, 1, sharey=True, sharex=False, figsize=(sub_fig_x*5/2, sub_fig_y*5))\n",
    "\n",
    "for i, (key, val) in enumerate(sorted(sort_by_layer.items(), key=lambda x: int(x[0]))):\n",
    "    key_num = int(key)\n",
    "    gradients = [grads for (n, grads) in val]\n",
    "    names = [n for (n, grads) in val]\n",
    "    axs[i].boxplot(gradients, labels=names)\n",
    "    #axs[i].set_labels(names)\n",
    "\n",
    "    #for j, (n, grads) in enumerate(val):\n",
    "    #    axs[i, j].boxplot(grads)\n",
    "    #    axs[i,j].set_title(n)"
   ]
  },
  {
   "cell_type": "code",
   "execution_count": 6,
   "metadata": {},
   "outputs": [
    {
     "name": "stdout",
     "output_type": "stream",
     "text": [
      "0 -> [('layer.0.lora', array([0.00672988, 0.68748349, 0.27745657, 0.1936815 , 0.20621138,\n",
      "       0.0812607 , 0.22547535, 0.41081222, 0.72005019, 0.59660836])), ('layer.0.prefix', array([0.07851487, 0.0567509 , 0.14375728, 0.29198289, 0.05936771,\n",
      "       0.25215293, 0.27237855, 0.01142603, 0.2891794 , 0.18724927]))]\n",
      "1 -> [('lora.layer.1', array([0.4704827 , 0.90868342, 0.73112755, 0.40788407, 0.84150531,\n",
      "       0.16185716, 0.22300316, 0.75633175, 0.23501211, 0.8342853 ])), ('layer.1.prefix', array([0.1192909 , 0.28937477, 0.04158447, 0.21273549, 0.05597741,\n",
      "       0.27796638, 0.08450788, 0.04395531, 0.16239774, 0.15973846])), ('layer.1.adapters', array([0.14742115, 0.29307496, 0.36631819, 0.25356182, 0.11479788,\n",
      "       0.30860908, 0.29095632, 0.43847755, 0.10246892, 0.3956542 ])), ('layer.1.bitfit', array([0.71553324, 0.76266766, 0.55752947, 0.26984731, 0.17566729,\n",
      "       0.76768946, 0.7156755 , 0.62561585, 0.10856726, 0.0466797 ]))]\n",
      "10 -> [('lora.layer.10', array([0.6549353 , 0.82596415, 0.43763554, 0.52485468, 0.47359801,\n",
      "       0.53941629, 0.8901661 , 0.5193132 , 0.56673635, 0.62926942])), ('lora.layer.10', array([0.2616127 , 0.97999174, 0.06151737, 0.1634442 , 0.51273225,\n",
      "       0.37561571, 0.73962097, 0.3137758 , 0.70911825, 0.90536528]))]\n",
      "11 -> [('lora.layer.11', array([0.9988097 , 0.44028253, 0.76755715, 0.53089978, 0.81724194,\n",
      "       0.03005404, 0.25434198, 0.08027933, 0.73004797, 0.90245214]))]\n",
      "12 -> [('lora.layer.12', array([0.07006036, 0.29143792, 0.87118322, 0.70882349, 0.36197204,\n",
      "       0.11745576, 0.87507136, 0.83211687, 0.1598414 , 0.4502976 ])), ('lora.layer.12', array([0.67050954, 0.19862284, 0.1280989 , 0.26286285, 0.63247844,\n",
      "       0.67411949, 0.45950783, 0.44738998, 0.80796355, 0.41121973]))]\n",
      "2 -> [('layer.2.lora', array([0.54855585, 0.75934968, 0.25694231, 0.04417291, 0.0337847 ,\n",
      "       0.09366301, 0.36609093, 0.29029343, 0.56073819, 0.44944858])), ('layer.2.prefix', array([0.053473  , 0.01212482, 0.064266  , 0.04276981, 0.00299969,\n",
      "       0.07307639, 0.07744086, 0.03905929, 0.00383125, 0.0390071 ])), ('layer.2.adapters', array([0.31497661, 0.08218409, 0.1287126 , 0.14354611, 0.02099058,\n",
      "       0.03884968, 0.37850455, 0.13855543, 0.03236046, 0.08132799]))]\n"
     ]
    }
   ],
   "source": [
    "\n",
    "for k, v in sorted(sort_by_layer.items(), key=lambda x: x[0]):\n",
    "    print(k, '->', v)"
   ]
  },
  {
   "cell_type": "code",
   "execution_count": null,
   "metadata": {},
   "outputs": [],
   "source": []
  },
  {
   "cell_type": "code",
   "execution_count": 23,
   "metadata": {},
   "outputs": [
    {
     "name": "stdout",
     "output_type": "stream",
     "text": [
      "[array([1, 2, 3, 4]), array([5, 6, 7, 8])]\n"
     ]
    },
    {
     "data": {
      "text/plain": [
       "[<matplotlib.lines.Line2D at 0x114ee1de0>]"
      ]
     },
     "execution_count": 23,
     "metadata": {},
     "output_type": "execute_result"
    },
    {
     "data": {
      "image/png": "[encoded data removed]",
      "text/plain": [
       "<Figure size 432x288 with 1 Axes>"
      ]
     },
     "metadata": {},
     "output_type": "display_data"
    }
   ],
   "source": [
    "a = [np.array([1,2,3,4]), np.array([5,6,7,8])]\n",
    "[list(l) for l in a]\n",
    "np.array(a).reshape(-1)\n",
    "import matplotlib.pyplot as plt\n",
    "print(a)\n",
    "b = [k for l in a for k in list(l)]\n",
    "plt.plot(b)"
   ]
  },
  {
   "cell_type": "code",
   "execution_count": 28,
   "metadata": {},
   "outputs": [
    {
     "data": {
      "text/plain": [
       "array([-1.        , -0.66666667, -0.33333333, -0.16666667,  0.        ,\n",
       "        0.33333333,  0.66666667,  1.        ,  0.83333333, -0.2       ,\n",
       "       -0.43333333,  0.5       ])"
      ]
     },
     "execution_count": 28,
     "metadata": {},
     "output_type": "execute_result"
    }
   ],
   "source": [
    "import numpy as np\n",
    "a = np.array([1, 2, 3, 3.5, 4, 5, 6, 7, 6.5, 3.4, 2.7, 5.5])\n",
    "\n",
    "a_range = (1, 7)\n",
    "a = (a - float(a_range[1] + 1)/2 ) / ((float(a_range[1]) - float(a_range[0]))/2)\n",
    "a"
   ]
  },
  {
   "cell_type": "code",
   "execution_count": 18,
   "metadata": {},
   "outputs": [
    {
     "data": {
      "text/plain": [
       "3.0"
      ]
     },
     "execution_count": 18,
     "metadata": {},
     "output_type": "execute_result"
    }
   ],
   "source": [
    "((float(a_range[1]) - float(a_range[0]))/2)"
   ]
  },
  {
   "cell_type": "code",
   "execution_count": 14,
   "metadata": {},
   "outputs": [
    {
     "name": "stdout",
     "output_type": "stream",
     "text": [
      "upper\n",
      "[ 6 76  7  6  7  6]\n",
      "['b' 'b' 'b' 'b' 'b' 'b']\n",
      "lower\n",
      "[1 2 3 2 2 3]\n",
      "['a' 'a' 'a' 'a' 'a' 'a']\n"
     ]
    }
   ],
   "source": [
    "import numpy as np\n",
    "l = np.array([1,2,3,4,5,4,5,6,76,7,6,7,6,2,4,2,3])\n",
    "b = np.array(['a','a','a','c','c','c','c','b','b','b','b','b','b','a','c','a','a'])\n",
    "\n",
    "cut = (2, 6)\n",
    "idx_upper = np.where(l >= cut[1])\n",
    "print('upper')\n",
    "print(l[idx_upper])\n",
    "print(b[idx_upper])\n",
    "\n",
    "idx_lower = np.where(l <= cut[0])\n",
    "print('lower')\n",
    "print(l[idx_lower])\n",
    "print(b[idx_lower])"
   ]
  },
  {
   "cell_type": "code",
   "execution_count": 12,
   "metadata": {},
   "outputs": [
    {
     "data": {
      "text/plain": [
       "[1, 4]"
      ]
     },
     "execution_count": 12,
     "metadata": {},
     "output_type": "execute_result"
    }
   ],
   "source": [
    "def test(boolean):\n",
    "    res = []\n",
    "    a = 1\n",
    "    res.append(a)\n",
    "    if boolean:\n",
    "        b = 4\n",
    "        res.append(b)\n",
    "    return res\n",
    "test(True)"
   ]
  },
  {
   "cell_type": "code",
   "execution_count": 13,
   "metadata": {},
   "outputs": [
    {
     "data": {
      "text/plain": [
       "1"
      ]
     },
     "execution_count": 13,
     "metadata": {},
     "output_type": "execute_result"
    }
   ],
   "source": [
    "a, b = test(True)\n",
    "a"
   ]
  },
  {
   "cell_type": "code",
   "execution_count": 14,
   "metadata": {},
   "outputs": [
    {
     "data": {
      "text/plain": [
       "[1]"
      ]
     },
     "execution_count": 14,
     "metadata": {},
     "output_type": "execute_result"
    }
   ],
   "source": [
    "a = test(False)\n",
    "a"
   ]
  },
  {
   "cell_type": "code",
   "execution_count": 36,
   "metadata": {},
   "outputs": [
    {
     "name": "stdout",
     "output_type": "stream",
     "text": [
      "[0.5   0.75  1.    0.625 0.875]\n",
      "[0.         0.5        1.         0.73333333 0.33333333]\n"
     ]
    },
    {
     "data": {
      "text/plain": [
       "array([0.5       , 0.25      , 0.        , 0.10833333, 0.54166667])"
      ]
     },
     "execution_count": 36,
     "metadata": {},
     "output_type": "execute_result"
    }
   ],
   "source": [
    "# a: 0 to 1\n",
    "# b: -7.5 to 7.5\n",
    "import numpy as np\n",
    "def normalize(vals, scale=None):\n",
    "    if scale is None:\n",
    "        scale = (min(vals), max(vals))\n",
    "    return (vals - (scale[0])) / (scale[1] - (scale[0]))\n",
    "\n",
    "calc_dist = lambda a, b: abs(a - b)\n",
    "\n",
    "range_a = (0, 1)\n",
    "a = np.array([0, 0.5, 1, 0.25, 0.75])\n",
    "a = normalize(a, range_a)\n",
    "print(a)\n",
    "range_b = None #(-7.5, 7.5)\n",
    "b = np.array([-7.5, 0, 7.5, 3.5, -2.5])\n",
    "b = normalize(b, range_b)\n",
    "print(b)\n",
    "\n",
    "calc_dist(a, b)"
   ]
  },
  {
   "cell_type": "code",
   "execution_count": 2,
   "metadata": {},
   "outputs": [],
   "source": [
    "experimental_quests_paper = [\n",
    "    ['Is it ok to {}?', 'No, it is not.', 'Yes, it is.'],\n",
    "    ['Should I {}?', 'No, you should not.', 'Yes, you should.'],\n",
    "    ['Shall I {}?', 'No, you shall not.', 'Yes, you shall.'],\n",
    "    ['May I {}?', 'No, you may not.', 'Yes, you may.'],\n",
    "    ['Is it allowed to {}?', 'No, it is not.', 'Yes, it is.'],\n",
    "    ['Is it recommended to {}?', 'No, it is not.', 'Yes, it is.'],\n",
    "    ['Is it desired to {}?', 'No, it is not.', 'Yes, it is.'],\n",
    "    ['Is it polite to {}?', 'No, it is not.', 'Yes, it is.'],\n",
    "    ['Is it good behaviour to {}?', 'No, it is not.', 'Yes, it is.'],\n",
    "    ['Is it exemplary to {}?', 'No, it is not.', 'Yes, it is.']\n",
    "]\n",
    "data_verbs = ['kill', 'hack', 'malnourish']\n",
    "questions = [q[0] for q in experimental_quests_paper]\n",
    "data = [questions[0].format(d) for d in data_verbs]"
   ]
  },
  {
   "cell_type": "code",
   "execution_count": 3,
   "metadata": {},
   "outputs": [
    {
     "data": {
      "text/plain": [
       "['Is it ok to kill?', 'Is it ok to hack?', 'Is it ok to malnourish?']"
      ]
     },
     "execution_count": 3,
     "metadata": {},
     "output_type": "execute_result"
    }
   ],
   "source": [
    "data"
   ]
  },
  {
   "cell_type": "code",
   "execution_count": 6,
   "metadata": {},
   "outputs": [
    {
     "name": "stdout",
     "output_type": "stream",
     "text": [
      "[[0.2 0.2 0.2 0.2 0.2 0.2]\n",
      " [0.4 0.4 0.4 0.4 0.4 0.4]]\n",
      "[[0.2 0.2 0.2 0.2 0.2 0.2]\n",
      " [0.4 0.4 0.4 0.4 0.4 0.4]]\n"
     ]
    }
   ],
   "source": [
    "import numpy as np\n",
    "res = np.array([[1,1,1,1,1,1], [2,2,2,2,2,2]])\n",
    "questions = [1,2,3,4,5]\n",
    "result = np.array([np.array(r) / len(questions) for r in res])\n",
    "result_2 = np.array(res) / len(questions)\n",
    "print(result)\n",
    "print(result_2)"
   ]
  },
  {
   "cell_type": "code",
   "execution_count": null,
   "metadata": {},
   "outputs": [],
   "source": []
  }
 ],
 "metadata": {
  "interpreter": {
   "hash": "ed2344f7681cf89aab228cd10ec0defc1580630f88198e7a34bc1e2c9ee9efaf"
  },
  "kernelspec": {
   "display_name": "Python 3.10.2 ('masterthesis_env')",
   "language": "python",
   "name": "python3"
  },
  "language_info": {
   "codemirror_mode": {
    "name": "ipython",
    "version": 3
   },
   "file_extension": ".py",
   "mimetype": "text/x-python",
   "name": "python",
   "nbconvert_exporter": "python",
   "pygments_lexer": "ipython3",
   "version": "3.10.2"
  },
  "orig_nbformat": 4
 },
 "nbformat": 4,
 "nbformat_minor": 2
}
